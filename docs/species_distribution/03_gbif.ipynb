{
 "cells": [
  {
   "cell_type": "code",
   "execution_count": null,
   "metadata": {},
   "outputs": [],
   "source": [
    "# import ray\n",
    "# ds = ray.data.read_csv(\"../../data/gbif/eBird_5cols.csv\")\n",
    "# ds.columns"
   ]
  },
  {
   "cell_type": "code",
   "execution_count": null,
   "metadata": {},
   "outputs": [],
   "source": [
    "file_path = \"../../data/gbif/eBird_5cols.csv\""
   ]
  },
  {
   "cell_type": "code",
   "execution_count": null,
   "metadata": {},
   "outputs": [],
   "source": [
    "from dask.distributed import Client\n",
    "import dask.dataframe as dd"
   ]
  },
  {
   "cell_type": "code",
   "execution_count": null,
   "metadata": {},
   "outputs": [],
   "source": [
    "client = Client()"
   ]
  },
  {
   "cell_type": "code",
   "execution_count": null,
   "metadata": {},
   "outputs": [],
   "source": [
    "df = dd.read_csv(\n",
    "    file_path,\n",
    "    dtype={\n",
    "        \"gbifID\": \"int64\",\n",
    "        \"eventDate\": \"string\",\n",
    "        \"speciesKey\": \"float64\",\n",
    "        \"decimalLatitude\": \"float64\",\n",
    "        \"decimalLongitude\": \"float64\",\n",
    "    },\n",
    "    # engine='pyarrow',\n",
    "    # dtype_backend='pyarrow',\n",
    "    parse_dates=[1],  # parse the second column as date\n",
    "    date_format=\"%Y-%m-%d\",\n",
    "    )"
   ]
  },
  {
   "cell_type": "code",
   "execution_count": null,
   "metadata": {},
   "outputs": [],
   "source": [
    "df = df.compute()"
   ]
  },
  {
   "cell_type": "code",
   "execution_count": null,
   "metadata": {},
   "outputs": [],
   "source": [
    "df.head()"
   ]
  },
  {
   "cell_type": "code",
   "execution_count": null,
   "metadata": {},
   "outputs": [],
   "source": [
    "df.dtypes"
   ]
  },
  {
   "cell_type": "code",
   "execution_count": null,
   "metadata": {},
   "outputs": [],
   "source": [
    "df['decimalLatitude'].max().compute()"
   ]
  },
  {
   "cell_type": "code",
   "execution_count": null,
   "metadata": {},
   "outputs": [],
   "source": [
    "import polars as pl"
   ]
  },
  {
   "cell_type": "code",
   "execution_count": null,
   "metadata": {},
   "outputs": [],
   "source": [
    "df = pl.read_csv(\n",
    "    file_path,\n",
    "    try_parse_dates=True,\n",
    ")"
   ]
  },
  {
   "cell_type": "code",
   "execution_count": null,
   "metadata": {},
   "outputs": [],
   "source": [
    "import cdsapi"
   ]
  },
  {
   "cell_type": "code",
   "execution_count": null,
   "metadata": {},
   "outputs": [],
   "source": [
    "client = cdsapi.Client()"
   ]
  },
  {
   "cell_type": "markdown",
   "metadata": {},
   "source": [
    "## Torchgeo, Getting Started"
   ]
  },
  {
   "cell_type": "code",
   "execution_count": 1,
   "metadata": {},
   "outputs": [],
   "source": [
    "import os\n",
    "import tempfile\n",
    "\n",
    "from torch.utils.data import DataLoader\n",
    "\n",
    "from torchgeo.datasets import NAIP, ChesapeakeDE, stack_samples\n",
    "from torchgeo.datasets.utils import download_url\n",
    "from torchgeo.samplers import RandomGeoSampler"
   ]
  },
  {
   "cell_type": "code",
   "execution_count": 3,
   "metadata": {},
   "outputs": [
    {
     "name": "stdout",
     "output_type": "stream",
     "text": [
      "Downloading https://naipeuwest.blob.core.windows.net/naip/v002/de/2018/de_060cm_2018/38075/m_3807511_ne_18_060_20181104.tif to /tmp/naip/m_3807511_ne_18_060_20181104.tif\n"
     ]
    },
    {
     "name": "stderr",
     "output_type": "stream",
     "text": [
      "100%|██████████| 513332284/513332284 [20:12<00:00, 423266.91it/s] \n"
     ]
    },
    {
     "name": "stdout",
     "output_type": "stream",
     "text": [
      "Downloading https://naipeuwest.blob.core.windows.net/naip/v002/de/2018/de_060cm_2018/38075/m_3807511_se_18_060_20181104.tif to /tmp/naip/m_3807511_se_18_060_20181104.tif\n"
     ]
    },
    {
     "name": "stderr",
     "output_type": "stream",
     "text": [
      "100%|██████████| 521985441/521985441 [18:53<00:00, 460468.01it/s] \n"
     ]
    },
    {
     "name": "stdout",
     "output_type": "stream",
     "text": [
      "Downloading https://naipeuwest.blob.core.windows.net/naip/v002/de/2018/de_060cm_2018/38075/m_3807512_nw_18_060_20180815.tif to /tmp/naip/m_3807512_nw_18_060_20180815.tif\n"
     ]
    },
    {
     "name": "stderr",
     "output_type": "stream",
     "text": [
      "100%|██████████| 489865657/489865657 [18:35<00:00, 439269.78it/s] \n"
     ]
    },
    {
     "name": "stdout",
     "output_type": "stream",
     "text": [
      "Downloading https://naipeuwest.blob.core.windows.net/naip/v002/de/2018/de_060cm_2018/38075/m_3807512_sw_18_060_20180815.tif to /tmp/naip/m_3807512_sw_18_060_20180815.tif\n"
     ]
    },
    {
     "name": "stderr",
     "output_type": "stream",
     "text": [
      "100%|██████████| 484476647/484476647 [27:39<00:00, 292004.93it/s] \n"
     ]
    }
   ],
   "source": [
    "naip_root = os.path.join(tempfile.gettempdir(), \"naip\")\n",
    "naip_url = (\n",
    "    \"https://naipeuwest.blob.core.windows.net/naip/v002/de/2018/de_060cm_2018/38075/\"\n",
    ")\n",
    "tiles = [\n",
    "    \"m_3807511_ne_18_060_20181104.tif\",\n",
    "    \"m_3807511_se_18_060_20181104.tif\",\n",
    "    \"m_3807512_nw_18_060_20180815.tif\",\n",
    "    \"m_3807512_sw_18_060_20180815.tif\",\n",
    "]\n",
    "for tile in tiles:\n",
    "    download_url(naip_url + tile, naip_root)"
   ]
  },
  {
   "cell_type": "code",
   "execution_count": 4,
   "metadata": {},
   "outputs": [],
   "source": [
    "naip = NAIP(naip_root)"
   ]
  },
  {
   "cell_type": "code",
   "execution_count": 5,
   "metadata": {},
   "outputs": [
    {
     "name": "stdout",
     "output_type": "stream",
     "text": [
      "Downloading https://cicwebresources.blob.core.windows.net/chesapeakebaylandcover/DE/_DE_STATEWIDE.zip to /tmp/chesapeake/_DE_STATEWIDE.zip\n"
     ]
    },
    {
     "name": "stderr",
     "output_type": "stream",
     "text": [
      "100%|██████████| 287350495/287350495 [11:04<00:00, 432365.63it/s]\n"
     ]
    }
   ],
   "source": [
    "chesapeake_root = os.path.join(tempfile.gettempdir(), \"chesapeake\")\n",
    "os.makedirs(chesapeake_root, exist_ok=True)\n",
    "chesapeake = ChesapeakeDE(chesapeake_root, crs=naip.crs, res=naip.res, download=True)"
   ]
  },
  {
   "cell_type": "code",
   "execution_count": 12,
   "metadata": {},
   "outputs": [],
   "source": [
    "dataset = naip & chesapeake"
   ]
  },
  {
   "cell_type": "code",
   "execution_count": 13,
   "metadata": {},
   "outputs": [],
   "source": [
    "sampler = RandomGeoSampler(dataset, size=1000, length=10)"
   ]
  },
  {
   "cell_type": "code",
   "execution_count": 14,
   "metadata": {},
   "outputs": [],
   "source": [
    "dataloader = DataLoader(dataset, sampler=sampler, collate_fn=stack_samples)"
   ]
  },
  {
   "cell_type": "code",
   "execution_count": 20,
   "metadata": {},
   "outputs": [],
   "source": [
    "sample = next(iter(dataloader))"
   ]
  },
  {
   "cell_type": "code",
   "execution_count": 38,
   "metadata": {},
   "outputs": [
    {
     "data": {
      "text/plain": [
       "tensor([  1.,   2.,   3.,   4.,   5.,   6.,   7.,   8.,   9.,  10.,  11.,  12.,\n",
       "         13.,  14.,  15.,  16.,  17.,  18.,  19.,  20.,  21.,  22.,  23.,  24.,\n",
       "         25.,  26.,  27.,  28.,  29.,  30.,  31.,  32.,  33.,  34.,  35.,  36.,\n",
       "         37.,  38.,  39.,  40.,  41.,  42.,  43.,  44.,  45.,  46.,  47.,  48.,\n",
       "         49.,  50.,  51.,  52.,  53.,  54.,  55.,  56.,  57.,  58.,  59.,  60.,\n",
       "         61.,  62.,  63.,  64.,  65.,  66.,  67.,  68.,  69.,  70.,  71.,  72.,\n",
       "         73.,  74.,  75.,  76.,  77.,  78.,  79.,  80.,  81.,  82.,  83.,  84.,\n",
       "         85.,  86.,  87.,  88.,  89.,  90.,  91.,  92.,  93.,  94.,  95.,  96.,\n",
       "         97.,  98.,  99., 100., 101., 102., 103., 104., 105., 106., 107., 108.,\n",
       "        109., 110., 111., 112., 113., 114., 115., 116., 117., 118., 119., 120.,\n",
       "        121., 122., 123., 124., 125., 126., 127., 128., 129., 130., 131., 132.,\n",
       "        133., 134., 135., 136., 137., 138., 139., 140., 141., 142., 143., 144.,\n",
       "        145., 146., 147., 148., 149., 150., 151., 152., 153., 154., 155., 156.,\n",
       "        157., 158., 159., 160., 161., 162., 163., 164., 165., 166., 167., 168.,\n",
       "        169., 170., 171., 172., 173., 174., 175., 176., 177., 178., 179., 180.,\n",
       "        181., 182., 183., 184., 185., 186., 187., 188., 189., 190., 191., 192.,\n",
       "        193., 194., 195., 196., 197., 198., 199., 200., 201., 202., 203., 204.,\n",
       "        205., 206., 207., 208., 209., 210., 211., 212., 213., 214., 215., 216.,\n",
       "        217., 218., 219., 220., 221., 222., 223., 224., 225., 226., 227., 228.,\n",
       "        229., 230., 231., 232., 233., 234., 235., 236., 237., 238., 239., 240.,\n",
       "        241., 242., 243., 244., 245., 246., 247., 248., 249., 250., 251., 252.,\n",
       "        253., 254., 255.])"
      ]
     },
     "execution_count": 38,
     "metadata": {},
     "output_type": "execute_result"
    }
   ],
   "source": [
    "sample['image'].unique()"
   ]
  },
  {
   "cell_type": "code",
   "execution_count": 39,
   "metadata": {},
   "outputs": [
    {
     "data": {
      "text/plain": [
       "tensor([ 1,  3,  4,  5,  7,  8, 10, 11])"
      ]
     },
     "execution_count": 39,
     "metadata": {},
     "output_type": "execute_result"
    }
   ],
   "source": [
    "sample['mask'].unique()"
   ]
  },
  {
   "cell_type": "code",
   "execution_count": 56,
   "metadata": {},
   "outputs": [],
   "source": [
    "import os\n",
    "import tempfile\n",
    "from urllib.parse import urlparse\n",
    "\n",
    "import matplotlib.pyplot as plt\n",
    "import planetary_computer\n",
    "import pystac\n",
    "import torch\n",
    "from torch.utils.data import DataLoader\n",
    "from torchgeo.datasets import RasterDataset, stack_samples, unbind_samples\n",
    "from torchgeo.datasets.utils import download_url\n",
    "from torchgeo.samplers import RandomGeoSampler\n",
    "\n",
    "%matplotlib inline\n",
    "plt.rcParams[\"figure.figsize\"] = (12, 12)"
   ]
  },
  {
   "cell_type": "code",
   "execution_count": 57,
   "metadata": {},
   "outputs": [
    {
     "name": "stdout",
     "output_type": "stream",
     "text": [
      "Using downloaded and verified file: /tmp/sentinel/T40XDH_20220902T090559_B02_10m.tif\n",
      "Using downloaded and verified file: /tmp/sentinel/T40XDH_20220902T090559_B03_10m.tif\n",
      "Using downloaded and verified file: /tmp/sentinel/T40XDH_20220902T090559_B04_10m.tif\n",
      "Using downloaded and verified file: /tmp/sentinel/T40XDH_20220902T090559_B08_10m.tif\n",
      "Using downloaded and verified file: /tmp/sentinel/T40XEJ_20220718T084609_B02_10m.tif\n",
      "Using downloaded and verified file: /tmp/sentinel/T40XEJ_20220718T084609_B03_10m.tif\n",
      "Downloading https://sentinel2l2a01.blob.core.windows.net/sentinel2-l2/40/X/EJ/2022/07/18/S2B_MSIL2A_20220718T084609_N0400_R107_T40XEJ_20220718T175008.SAFE/GRANULE/L2A_T40XEJ_A028018_20220718T084603/IMG_DATA/R10m/T40XEJ_20220718T084609_B04_10m.tif?st=2024-06-23T06%3A51%3A21Z&se=2024-06-24T07%3A36%3A21Z&sp=rl&sv=2024-05-04&sr=c&skoid=9c8ff44a-6a2c-4dfb-b298-1c9212f64d9a&sktid=72f988bf-86f1-41af-91ab-2d7cd011db47&skt=2024-06-24T05%3A57%3A56Z&ske=2024-07-01T05%3A57%3A56Z&sks=b&skv=2024-05-04&sig=X72nLvSEIs/OsBOeGwudgDWTJA5W6TosvOskFAnT9Ng%3D to /tmp/sentinel/T40XEJ_20220718T084609_B04_10m.tif\n"
     ]
    },
    {
     "name": "stderr",
     "output_type": "stream",
     "text": [
      "100%|██████████| 193846206/193846206 [07:25<00:00, 435114.37it/s] \n"
     ]
    },
    {
     "name": "stdout",
     "output_type": "stream",
     "text": [
      "Downloading https://sentinel2l2a01.blob.core.windows.net/sentinel2-l2/40/X/EJ/2022/07/18/S2B_MSIL2A_20220718T084609_N0400_R107_T40XEJ_20220718T175008.SAFE/GRANULE/L2A_T40XEJ_A028018_20220718T084603/IMG_DATA/R10m/T40XEJ_20220718T084609_B08_10m.tif?st=2024-06-23T06%3A51%3A21Z&se=2024-06-24T07%3A36%3A21Z&sp=rl&sv=2024-05-04&sr=c&skoid=9c8ff44a-6a2c-4dfb-b298-1c9212f64d9a&sktid=72f988bf-86f1-41af-91ab-2d7cd011db47&skt=2024-06-24T05%3A57%3A56Z&ske=2024-07-01T05%3A57%3A56Z&sks=b&skv=2024-05-04&sig=X72nLvSEIs/OsBOeGwudgDWTJA5W6TosvOskFAnT9Ng%3D to /tmp/sentinel/T40XEJ_20220718T084609_B08_10m.tif\n"
     ]
    },
    {
     "name": "stderr",
     "output_type": "stream",
     "text": [
      "100%|██████████| 200519427/200519427 [12:50<00:00, 260325.17it/s]\n"
     ]
    }
   ],
   "source": [
    "sentinel_root = os.path.join(tempfile.gettempdir(), \"sentinel\")\n",
    "item_urls = [\n",
    "    \"https://planetarycomputer.microsoft.com/api/stac/v1/collections/sentinel-2-l2a/items/S2B_MSIL2A_20220902T090559_R050_T40XDH_20220902T181115\",\n",
    "    \"https://planetarycomputer.microsoft.com/api/stac/v1/collections/sentinel-2-l2a/items/S2B_MSIL2A_20220718T084609_R107_T40XEJ_20220718T175008\",\n",
    "]\n",
    "\n",
    "for item_url in item_urls:\n",
    "    item = pystac.Item.from_file(item_url)\n",
    "    signed_item = planetary_computer.sign(item)\n",
    "    for band in [\"B02\", \"B03\", \"B04\", \"B08\"]:\n",
    "        asset_href = signed_item.assets[band].href\n",
    "        filename = urlparse(asset_href).path.split(\"/\")[-1]\n",
    "        download_url(asset_href, sentinel_root, filename)"
   ]
  },
  {
   "cell_type": "code",
   "execution_count": 58,
   "metadata": {},
   "outputs": [
    {
     "data": {
      "text/plain": [
       "['T40XDH_20220902T090559_B02_10m.tif',\n",
       " 'T40XDH_20220902T090559_B03_10m.tif',\n",
       " 'T40XDH_20220902T090559_B04_10m.tif',\n",
       " 'T40XDH_20220902T090559_B08_10m.tif',\n",
       " 'T40XEJ_20220718T084609_B02_10m.tif',\n",
       " 'T40XEJ_20220718T084609_B03_10m.tif',\n",
       " 'T40XEJ_20220718T084609_B04_10m.tif',\n",
       " 'T40XEJ_20220718T084609_B08_10m.tif']"
      ]
     },
     "execution_count": 58,
     "metadata": {},
     "output_type": "execute_result"
    }
   ],
   "source": [
    "sorted(os.listdir(sentinel_root))"
   ]
  },
  {
   "cell_type": "markdown",
   "metadata": {},
   "source": [
    "Planetary Computer Examples"
   ]
  },
  {
   "cell_type": "code",
   "execution_count": 48,
   "metadata": {},
   "outputs": [],
   "source": [
    "import pystac_client\n",
    "import planetary_computer\n",
    "\n",
    "catalog = pystac_client.Client.open(\n",
    "    \"https://planetarycomputer.microsoft.com/api/stac/v1\",\n",
    "    modifier=planetary_computer.sign_inplace,\n",
    ")"
   ]
  },
  {
   "cell_type": "code",
   "execution_count": 49,
   "metadata": {},
   "outputs": [
    {
     "name": "stderr",
     "output_type": "stream",
     "text": [
      "/home/feng/music/venv/lib/python3.10/site-packages/pystac_client/item_search.py:851: FutureWarning: get_all_items() is deprecated, use item_collection() instead.\n",
      "  warnings.warn(\n"
     ]
    },
    {
     "data": {
      "text/plain": [
       "8"
      ]
     },
     "execution_count": 49,
     "metadata": {},
     "output_type": "execute_result"
    }
   ],
   "source": [
    "time_range = \"2020-12-01/2020-12-31\"\n",
    "bbox = [-122.2751, 47.5469, -121.9613, 47.7458]\n",
    "\n",
    "search = catalog.search(collections=[\"landsat-c2-l2\"], bbox=bbox, datetime=time_range)\n",
    "items = search.get_all_items()\n",
    "len(items)"
   ]
  },
  {
   "cell_type": "code",
   "execution_count": 50,
   "metadata": {},
   "outputs": [],
   "source": [
    "area_of_interest = {\n",
    "    \"type\": \"Polygon\",\n",
    "    \"coordinates\": [\n",
    "        [\n",
    "            [-122.2751, 47.5469],\n",
    "            [-121.9613, 47.9613],\n",
    "            [-121.9613, 47.9613],\n",
    "            [-122.2751, 47.9613],\n",
    "            [-122.2751, 47.5469],\n",
    "        ]\n",
    "    ]\n",
    "}\n",
    "\n",
    "search = catalog.search(\n",
    "    collections=[\"landsat-c2-l2\"], intersects=area_of_interest, datetime=time_range\n",
    ")"
   ]
  },
  {
   "cell_type": "code",
   "execution_count": 51,
   "metadata": {},
   "outputs": [
    {
     "data": {
      "text/html": [
       "<div>\n",
       "<style scoped>\n",
       "    .dataframe tbody tr th:only-of-type {\n",
       "        vertical-align: middle;\n",
       "    }\n",
       "\n",
       "    .dataframe tbody tr th {\n",
       "        vertical-align: top;\n",
       "    }\n",
       "\n",
       "    .dataframe thead th {\n",
       "        text-align: right;\n",
       "    }\n",
       "</style>\n",
       "<table border=\"1\" class=\"dataframe\">\n",
       "  <thead>\n",
       "    <tr style=\"text-align: right;\">\n",
       "      <th></th>\n",
       "      <th>geometry</th>\n",
       "      <th>gsd</th>\n",
       "      <th>created</th>\n",
       "      <th>sci:doi</th>\n",
       "      <th>datetime</th>\n",
       "      <th>platform</th>\n",
       "      <th>proj:epsg</th>\n",
       "      <th>proj:shape</th>\n",
       "      <th>description</th>\n",
       "      <th>instruments</th>\n",
       "      <th>eo:cloud_cover</th>\n",
       "      <th>proj:transform</th>\n",
       "      <th>view:off_nadir</th>\n",
       "      <th>landsat:wrs_row</th>\n",
       "      <th>landsat:scene_id</th>\n",
       "      <th>landsat:wrs_path</th>\n",
       "      <th>landsat:wrs_type</th>\n",
       "      <th>view:sun_azimuth</th>\n",
       "      <th>landsat:correction</th>\n",
       "      <th>view:sun_elevation</th>\n",
       "      <th>landsat:cloud_cover_land</th>\n",
       "      <th>landsat:collection_number</th>\n",
       "      <th>landsat:collection_category</th>\n",
       "    </tr>\n",
       "  </thead>\n",
       "  <tbody>\n",
       "    <tr>\n",
       "      <th>0</th>\n",
       "      <td>POLYGON ((-122.72549 48.50884, -120.29248 48.0...</td>\n",
       "      <td>30</td>\n",
       "      <td>2022-05-06T18:04:17.126358Z</td>\n",
       "      <td>10.5066/P9OGBGM6</td>\n",
       "      <td>2020-12-29T18:55:56.738265Z</td>\n",
       "      <td>landsat-8</td>\n",
       "      <td>32610</td>\n",
       "      <td>[7881, 7781]</td>\n",
       "      <td>Landsat Collection 2 Level-2</td>\n",
       "      <td>[oli, tirs]</td>\n",
       "      <td>100.00</td>\n",
       "      <td>[30.0, 0.0, 471585.0, 0.0, -30.0, 5373315.0]</td>\n",
       "      <td>0</td>\n",
       "      <td>027</td>\n",
       "      <td>LC80460272020364LGN00</td>\n",
       "      <td>046</td>\n",
       "      <td>2</td>\n",
       "      <td>162.253231</td>\n",
       "      <td>L2SP</td>\n",
       "      <td>17.458298</td>\n",
       "      <td>100.00</td>\n",
       "      <td>02</td>\n",
       "      <td>T2</td>\n",
       "    </tr>\n",
       "    <tr>\n",
       "      <th>1</th>\n",
       "      <td>POLYGON ((-124.52046 48.44245, -121.93932 48.0...</td>\n",
       "      <td>30</td>\n",
       "      <td>2022-05-06T17:25:29.626986Z</td>\n",
       "      <td>10.5066/P9C7I13B</td>\n",
       "      <td>2020-12-28T18:20:32.609164Z</td>\n",
       "      <td>landsat-7</td>\n",
       "      <td>32610</td>\n",
       "      <td>[7361, 8341]</td>\n",
       "      <td>Landsat Collection 2 Level-2</td>\n",
       "      <td>[etm+]</td>\n",
       "      <td>31.00</td>\n",
       "      <td>[30.0, 0.0, 333885.0, 0.0, -30.0, 5368515.0]</td>\n",
       "      <td>0</td>\n",
       "      <td>027</td>\n",
       "      <td>LE70470272020363EDC00</td>\n",
       "      <td>047</td>\n",
       "      <td>2</td>\n",
       "      <td>152.689113</td>\n",
       "      <td>L2SP</td>\n",
       "      <td>14.678880</td>\n",
       "      <td>32.00</td>\n",
       "      <td>02</td>\n",
       "      <td>T1</td>\n",
       "    </tr>\n",
       "    <tr>\n",
       "      <th>2</th>\n",
       "      <td>POLYGON ((-122.96802 48.44547, -120.39024 48.0...</td>\n",
       "      <td>30</td>\n",
       "      <td>2022-05-06T18:01:04.319403Z</td>\n",
       "      <td>10.5066/P9C7I13B</td>\n",
       "      <td>2020-12-21T18:14:50.812768Z</td>\n",
       "      <td>landsat-7</td>\n",
       "      <td>32610</td>\n",
       "      <td>[7251, 8251]</td>\n",
       "      <td>Landsat Collection 2 Level-2</td>\n",
       "      <td>[etm+]</td>\n",
       "      <td>25.00</td>\n",
       "      <td>[30.0, 0.0, 452385.0, 0.0, -30.0, 5367315.0]</td>\n",
       "      <td>0</td>\n",
       "      <td>027</td>\n",
       "      <td>LE70460272020356EDC00</td>\n",
       "      <td>046</td>\n",
       "      <td>2</td>\n",
       "      <td>153.649177</td>\n",
       "      <td>L2SP</td>\n",
       "      <td>14.779612</td>\n",
       "      <td>24.00</td>\n",
       "      <td>02</td>\n",
       "      <td>T2</td>\n",
       "    </tr>\n",
       "    <tr>\n",
       "      <th>3</th>\n",
       "      <td>POLYGON ((-124.27547 48.50831, -121.84167 48.0...</td>\n",
       "      <td>30</td>\n",
       "      <td>2022-05-06T17:46:22.246696Z</td>\n",
       "      <td>10.5066/P9OGBGM6</td>\n",
       "      <td>2020-12-20T19:02:09.878796Z</td>\n",
       "      <td>landsat-8</td>\n",
       "      <td>32610</td>\n",
       "      <td>[7971, 7861]</td>\n",
       "      <td>Landsat Collection 2 Level-2</td>\n",
       "      <td>[oli, tirs]</td>\n",
       "      <td>100.00</td>\n",
       "      <td>[30.0, 0.0, 353385.0, 0.0, -30.0, 5374215.0]</td>\n",
       "      <td>0</td>\n",
       "      <td>027</td>\n",
       "      <td>LC80470272020355LGN00</td>\n",
       "      <td>047</td>\n",
       "      <td>2</td>\n",
       "      <td>163.360118</td>\n",
       "      <td>L2SP</td>\n",
       "      <td>17.414441</td>\n",
       "      <td>100.00</td>\n",
       "      <td>02</td>\n",
       "      <td>T2</td>\n",
       "    </tr>\n",
       "    <tr>\n",
       "      <th>4</th>\n",
       "      <td>POLYGON ((-122.72996 48.50858, -120.29690 48.0...</td>\n",
       "      <td>30</td>\n",
       "      <td>2022-05-06T18:04:16.935800Z</td>\n",
       "      <td>10.5066/P9OGBGM6</td>\n",
       "      <td>2020-12-13T18:56:00.096447Z</td>\n",
       "      <td>landsat-8</td>\n",
       "      <td>32610</td>\n",
       "      <td>[7881, 7781]</td>\n",
       "      <td>Landsat Collection 2 Level-2</td>\n",
       "      <td>[oli, tirs]</td>\n",
       "      <td>98.73</td>\n",
       "      <td>[30.0, 0.0, 471285.0, 0.0, -30.0, 5373315.0]</td>\n",
       "      <td>0</td>\n",
       "      <td>027</td>\n",
       "      <td>LC80460272020348LGN00</td>\n",
       "      <td>046</td>\n",
       "      <td>2</td>\n",
       "      <td>164.126188</td>\n",
       "      <td>L2SP</td>\n",
       "      <td>17.799744</td>\n",
       "      <td>98.64</td>\n",
       "      <td>02</td>\n",
       "      <td>T2</td>\n",
       "    </tr>\n",
       "    <tr>\n",
       "      <th>5</th>\n",
       "      <td>POLYGON ((-124.51935 48.44597, -121.93965 48.0...</td>\n",
       "      <td>30</td>\n",
       "      <td>2022-05-06T17:25:29.412798Z</td>\n",
       "      <td>10.5066/P9C7I13B</td>\n",
       "      <td>2020-12-12T18:21:42.991249Z</td>\n",
       "      <td>landsat-7</td>\n",
       "      <td>32610</td>\n",
       "      <td>[7361, 8341]</td>\n",
       "      <td>Landsat Collection 2 Level-2</td>\n",
       "      <td>[etm+]</td>\n",
       "      <td>17.00</td>\n",
       "      <td>[30.0, 0.0, 333885.0, 0.0, -30.0, 5368815.0]</td>\n",
       "      <td>0</td>\n",
       "      <td>027</td>\n",
       "      <td>LE70470272020347EDC00</td>\n",
       "      <td>047</td>\n",
       "      <td>2</td>\n",
       "      <td>154.692691</td>\n",
       "      <td>L2SP</td>\n",
       "      <td>15.427422</td>\n",
       "      <td>12.00</td>\n",
       "      <td>02</td>\n",
       "      <td>T1</td>\n",
       "    </tr>\n",
       "    <tr>\n",
       "      <th>6</th>\n",
       "      <td>POLYGON ((-122.98709 48.44790, -120.40945 48.0...</td>\n",
       "      <td>30</td>\n",
       "      <td>2022-05-06T18:01:04.178839Z</td>\n",
       "      <td>10.5066/P9C7I13B</td>\n",
       "      <td>2020-12-05T18:16:03.755599Z</td>\n",
       "      <td>landsat-7</td>\n",
       "      <td>32610</td>\n",
       "      <td>[7281, 8251]</td>\n",
       "      <td>Landsat Collection 2 Level-2</td>\n",
       "      <td>[etm+]</td>\n",
       "      <td>2.00</td>\n",
       "      <td>[30.0, 0.0, 451185.0, 0.0, -30.0, 5367615.0]</td>\n",
       "      <td>0</td>\n",
       "      <td>027</td>\n",
       "      <td>LE70460272020340EDC00</td>\n",
       "      <td>046</td>\n",
       "      <td>2</td>\n",
       "      <td>155.308739</td>\n",
       "      <td>L2SP</td>\n",
       "      <td>16.313570</td>\n",
       "      <td>2.00</td>\n",
       "      <td>02</td>\n",
       "      <td>T1</td>\n",
       "    </tr>\n",
       "    <tr>\n",
       "      <th>7</th>\n",
       "      <td>POLYGON ((-124.27385 48.50833, -121.83965 48.0...</td>\n",
       "      <td>30</td>\n",
       "      <td>2022-05-06T17:46:22.097338Z</td>\n",
       "      <td>10.5066/P9OGBGM6</td>\n",
       "      <td>2020-12-04T19:02:11.194486Z</td>\n",
       "      <td>landsat-8</td>\n",
       "      <td>32610</td>\n",
       "      <td>[7971, 7861]</td>\n",
       "      <td>Landsat Collection 2 Level-2</td>\n",
       "      <td>[oli, tirs]</td>\n",
       "      <td>1.55</td>\n",
       "      <td>[30.0, 0.0, 353685.0, 0.0, -30.0, 5374215.0]</td>\n",
       "      <td>0</td>\n",
       "      <td>027</td>\n",
       "      <td>LC80470272020339LGN00</td>\n",
       "      <td>047</td>\n",
       "      <td>2</td>\n",
       "      <td>164.914060</td>\n",
       "      <td>L2SP</td>\n",
       "      <td>18.807230</td>\n",
       "      <td>1.90</td>\n",
       "      <td>02</td>\n",
       "      <td>T1</td>\n",
       "    </tr>\n",
       "  </tbody>\n",
       "</table>\n",
       "</div>"
      ],
      "text/plain": [
       "                                            geometry  ...  landsat:collection_category\n",
       "0  POLYGON ((-122.72549 48.50884, -120.29248 48.0...  ...                           T2\n",
       "1  POLYGON ((-124.52046 48.44245, -121.93932 48.0...  ...                           T1\n",
       "2  POLYGON ((-122.96802 48.44547, -120.39024 48.0...  ...                           T2\n",
       "3  POLYGON ((-124.27547 48.50831, -121.84167 48.0...  ...                           T2\n",
       "4  POLYGON ((-122.72996 48.50858, -120.29690 48.0...  ...                           T2\n",
       "5  POLYGON ((-124.51935 48.44597, -121.93965 48.0...  ...                           T1\n",
       "6  POLYGON ((-122.98709 48.44790, -120.40945 48.0...  ...                           T1\n",
       "7  POLYGON ((-124.27385 48.50833, -121.83965 48.0...  ...                           T1\n",
       "\n",
       "[8 rows x 23 columns]"
      ]
     },
     "execution_count": 51,
     "metadata": {},
     "output_type": "execute_result"
    }
   ],
   "source": [
    "import geopandas\n",
    "\n",
    "df = geopandas.GeoDataFrame.from_features(items.to_dict(), crs=\"epsg:4326\")\n",
    "df"
   ]
  },
  {
   "cell_type": "code",
   "execution_count": 52,
   "metadata": {},
   "outputs": [
    {
     "name": "stdout",
     "output_type": "stream",
     "text": [
      "<Item id=LC08_L2SP_047027_20201204_02_T1>\n"
     ]
    }
   ],
   "source": [
    "selected_item = min(items, key=lambda item: item.properties[\"eo:cloud_cover\"])\n",
    "print(selected_item)"
   ]
  },
  {
   "cell_type": "code",
   "execution_count": 53,
   "metadata": {},
   "outputs": [
    {
     "data": {
      "text/html": [
       "<pre style=\"white-space:pre;overflow-x:auto;line-height:normal;font-family:Menlo,'DejaVu Sans Mono',consolas,'Courier New',monospace\">┏━━━━━━━━━━━━━━━━━━┳━━━━━━━━━━━━━━━━━━━━━━━━━━━━━━━━━━━━━━━━━━━━━━━━━━━━━━━━━━━━━━━━━━━━━━┓\n",
       "┃<span style=\"font-weight: bold\"> Asset Key        </span>┃<span style=\"font-weight: bold\"> Description                                                          </span>┃\n",
       "┡━━━━━━━━━━━━━━━━━━╇━━━━━━━━━━━━━━━━━━━━━━━━━━━━━━━━━━━━━━━━━━━━━━━━━━━━━━━━━━━━━━━━━━━━━━┩\n",
       "│ qa               │ Surface Temperature Quality Assessment Band                          │\n",
       "│ ang              │ Angle Coefficients File                                              │\n",
       "│ red              │ Red Band                                                             │\n",
       "│ blue             │ Blue Band                                                            │\n",
       "│ drad             │ Downwelled Radiance Band                                             │\n",
       "│ emis             │ Emissivity Band                                                      │\n",
       "│ emsd             │ Emissivity Standard Deviation Band                                   │\n",
       "│ trad             │ Thermal Radiance Band                                                │\n",
       "│ urad             │ Upwelled Radiance Band                                               │\n",
       "│ atran            │ Atmospheric Transmittance Band                                       │\n",
       "│ cdist            │ Cloud Distance Band                                                  │\n",
       "│ green            │ Green Band                                                           │\n",
       "│ nir08            │ Near Infrared Band 0.8                                               │\n",
       "│ lwir11           │ Surface Temperature Band                                             │\n",
       "│ swir16           │ Short-wave Infrared Band 1.6                                         │\n",
       "│ swir22           │ Short-wave Infrared Band 2.2                                         │\n",
       "│ coastal          │ Coastal/Aerosol Band                                                 │\n",
       "│ mtl.txt          │ Product Metadata File (txt)                                          │\n",
       "│ mtl.xml          │ Product Metadata File (xml)                                          │\n",
       "│ mtl.json         │ Product Metadata File (json)                                         │\n",
       "│ qa_pixel         │ Pixel Quality Assessment Band                                        │\n",
       "│ qa_radsat        │ Radiometric Saturation and Terrain Occlusion Quality Assessment Band │\n",
       "│ qa_aerosol       │ Aerosol Quality Assessment Band                                      │\n",
       "│ tilejson         │ TileJSON with default rendering                                      │\n",
       "│ rendered_preview │ Rendered preview                                                     │\n",
       "└──────────────────┴──────────────────────────────────────────────────────────────────────┘\n",
       "</pre>\n"
      ],
      "text/plain": [
       "┏━━━━━━━━━━━━━━━━━━┳━━━━━━━━━━━━━━━━━━━━━━━━━━━━━━━━━━━━━━━━━━━━━━━━━━━━━━━━━━━━━━━━━━━━━━┓\n",
       "┃\u001b[1m \u001b[0m\u001b[1mAsset Key       \u001b[0m\u001b[1m \u001b[0m┃\u001b[1m \u001b[0m\u001b[1mDescription                                                         \u001b[0m\u001b[1m \u001b[0m┃\n",
       "┡━━━━━━━━━━━━━━━━━━╇━━━━━━━━━━━━━━━━━━━━━━━━━━━━━━━━━━━━━━━━━━━━━━━━━━━━━━━━━━━━━━━━━━━━━━┩\n",
       "│ qa               │ Surface Temperature Quality Assessment Band                          │\n",
       "│ ang              │ Angle Coefficients File                                              │\n",
       "│ red              │ Red Band                                                             │\n",
       "│ blue             │ Blue Band                                                            │\n",
       "│ drad             │ Downwelled Radiance Band                                             │\n",
       "│ emis             │ Emissivity Band                                                      │\n",
       "│ emsd             │ Emissivity Standard Deviation Band                                   │\n",
       "│ trad             │ Thermal Radiance Band                                                │\n",
       "│ urad             │ Upwelled Radiance Band                                               │\n",
       "│ atran            │ Atmospheric Transmittance Band                                       │\n",
       "│ cdist            │ Cloud Distance Band                                                  │\n",
       "│ green            │ Green Band                                                           │\n",
       "│ nir08            │ Near Infrared Band 0.8                                               │\n",
       "│ lwir11           │ Surface Temperature Band                                             │\n",
       "│ swir16           │ Short-wave Infrared Band 1.6                                         │\n",
       "│ swir22           │ Short-wave Infrared Band 2.2                                         │\n",
       "│ coastal          │ Coastal/Aerosol Band                                                 │\n",
       "│ mtl.txt          │ Product Metadata File (txt)                                          │\n",
       "│ mtl.xml          │ Product Metadata File (xml)                                          │\n",
       "│ mtl.json         │ Product Metadata File (json)                                         │\n",
       "│ qa_pixel         │ Pixel Quality Assessment Band                                        │\n",
       "│ qa_radsat        │ Radiometric Saturation and Terrain Occlusion Quality Assessment Band │\n",
       "│ qa_aerosol       │ Aerosol Quality Assessment Band                                      │\n",
       "│ tilejson         │ TileJSON with default rendering                                      │\n",
       "│ rendered_preview │ Rendered preview                                                     │\n",
       "└──────────────────┴──────────────────────────────────────────────────────────────────────┘\n"
      ]
     },
     "execution_count": 53,
     "metadata": {},
     "output_type": "execute_result"
    }
   ],
   "source": [
    "import rich.table\n",
    "\n",
    "table = rich.table.Table(\"Asset Key\", \"Description\")\n",
    "for asset_key, asset in selected_item.assets.items():\n",
    "    table.add_row(asset_key, asset.title)\n",
    "\n",
    "table"
   ]
  },
  {
   "cell_type": "code",
   "execution_count": 54,
   "metadata": {},
   "outputs": [
    {
     "data": {
      "text/plain": [
       "{'href': 'https://planetarycomputer.microsoft.com/api/data/v1/item/preview.png?collection=landsat-c2-l2&item=LC08_L2SP_047027_20201204_02_T1&assets=red&assets=green&assets=blue&color_formula=gamma+RGB+2.7%2C+saturation+1.5%2C+sigmoidal+RGB+15+0.55&format=png',\n",
       " 'type': 'image/png',\n",
       " 'title': 'Rendered preview',\n",
       " 'rel': 'preview',\n",
       " 'roles': ['overview']}"
      ]
     },
     "execution_count": 54,
     "metadata": {},
     "output_type": "execute_result"
    }
   ],
   "source": [
    "selected_item.assets[\"rendered_preview\"].to_dict()"
   ]
  },
  {
   "cell_type": "code",
   "execution_count": 55,
   "metadata": {},
   "outputs": [
    {
     "data": {
      "text/html": [
       "<img src=\"https://planetarycomputer.microsoft.com/api/data/v1/item/preview.png?collection=landsat-c2-l2&item=LC08_L2SP_047027_20201204_02_T1&assets=red&assets=green&assets=blue&color_formula=gamma+RGB+2.7%2C+saturation+1.5%2C+sigmoidal+RGB+15+0.55&format=png\" width=\"500\"/>"
      ],
      "text/plain": [
       "<IPython.core.display.Image object>"
      ]
     },
     "execution_count": 55,
     "metadata": {},
     "output_type": "execute_result"
    }
   ],
   "source": [
    "from IPython.display import Image\n",
    "\n",
    "Image(url=selected_item.assets[\"rendered_preview\"].href, width=500)"
   ]
  },
  {
   "cell_type": "code",
   "execution_count": null,
   "metadata": {},
   "outputs": [],
   "source": []
  }
 ],
 "metadata": {
  "kernelspec": {
   "display_name": "venv",
   "language": "python",
   "name": "python3"
  },
  "language_info": {
   "codemirror_mode": {
    "name": "ipython",
    "version": 3
   },
   "file_extension": ".py",
   "mimetype": "text/x-python",
   "name": "python",
   "nbconvert_exporter": "python",
   "pygments_lexer": "ipython3",
   "version": "3.10.12"
  }
 },
 "nbformat": 4,
 "nbformat_minor": 2
}
