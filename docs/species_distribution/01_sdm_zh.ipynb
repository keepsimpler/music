{
 "cells": [
  {
   "cell_type": "markdown",
   "metadata": {},
   "source": [
    "# Introduction in Chinese\n",
    "-------------------------------------\n",
    "\n",
    "物种分布模型（Species Distribution Models，简称SDMs）是一种用于预测物种在特定环境条件下出现概率的生态学工具。这些模型通过分析物种出现地点的地理和环境数据，来预测物种的潜在分布范围。\n",
    "物种分布模型在定量生态学中非常流行，并且是全球变化影响评估中用于预测物种潜在范围变化的最广泛使用的建模框架。\n",
    "\n",
    "物种分布模型的输入通常包括地理参考的生物多样性观测数据（例如个体位置、物种存在、物种计数、物种丰富度；响应或因变量）和环境信息的地理图层（例如气候、土地覆盖、土壤属性；预测或自变量）。这些信息现在广泛以数字化格式提供。例如，在线存储库提供有关物种分布的数据（例如GBIF和OBIS）、有关单个动物位置的数据（例如Movebank）、有关气候的数据（例如WorldClim和CHELSA）以及土地覆盖和其他遥感产品的数据（例如Copernicus）。\n",
    "\n",
    "物种分布模型的目的是将特定地点的生物多样性观测与这些地点的特定环境条件联系起来，可以使用不同的统计和机器学习算法来实现这一点。一旦估计了生物多样性-环境关系，我们可以通过将模型投影到可用的环境图层上，在空间和时间上进行预测。\n"
   ]
  },
  {
   "cell_type": "markdown",
   "metadata": {},
   "source": []
  },
  {
   "cell_type": "code",
   "execution_count": 4,
   "metadata": {},
   "outputs": [],
   "source": [
    "import pandas as pd\n",
    "import geopandas as gpd\n",
    "from sklearn.model_selection import train_test_split\n",
    "from sklearn.ensemble import RandomForestClassifier\n",
    "from sklearn.metrics import accuracy_score, confusion_matrix\n",
    "import matplotlib.pyplot as plt\n",
    "\n"
   ]
  },
  {
   "cell_type": "markdown",
   "metadata": {},
   "source": [
    "假设你已经有了一个包含物种出现数据的地理空间数据集\n",
    "这个数据集至少包含两列：物种是否存在（1表示存在，0表示不存在）和地理坐标\n",
    "\n",
    "为了示例，我们创建一个假的数据集\n",
    "假设我们有两个环境变量：温度和降水，以及物种出现的数据\n"
   ]
  },
  {
   "cell_type": "code",
   "execution_count": 5,
   "metadata": {},
   "outputs": [],
   "source": [
    "data = pd.DataFrame({\n",
    "    'species_presence': [1, 0, 1, 0, 1],  # 物种出现（1）或不存在（0）\n",
    "    'temperature': [22, 15, 30, 18, 25],  # 温度\n",
    "    'precipitation': [1200, 800, 1500, 900, 1300]  # 降水量\n",
    "})\n"
   ]
  },
  {
   "cell_type": "markdown",
   "metadata": {},
   "source": [
    "为数据增加地理坐标，将数据转换为GeoDataFrame。这里我们使用假的地理坐标\n"
   ]
  },
  {
   "cell_type": "code",
   "execution_count": 7,
   "metadata": {},
   "outputs": [],
   "source": [
    "from shapely import Point\n",
    "data['geometry'] = pd.Series([\n",
    "    Point(-97.73, 30.27),\n",
    "    Point(-97.74, 30.29),\n",
    "    Point(-97.72, 30.28),\n",
    "    Point(-97.75, 30.26),\n",
    "    Point(-97.76, 30.30),\n",
    "], index=data.index)\n"
   ]
  },
  {
   "cell_type": "code",
   "execution_count": 8,
   "metadata": {},
   "outputs": [],
   "source": [
    "gdf = gpd.GeoDataFrame(data, geometry='geometry')"
   ]
  },
  {
   "cell_type": "code",
   "execution_count": 9,
   "metadata": {},
   "outputs": [
    {
     "data": {
      "text/html": [
       "<div>\n",
       "<style scoped>\n",
       "    .dataframe tbody tr th:only-of-type {\n",
       "        vertical-align: middle;\n",
       "    }\n",
       "\n",
       "    .dataframe tbody tr th {\n",
       "        vertical-align: top;\n",
       "    }\n",
       "\n",
       "    .dataframe thead th {\n",
       "        text-align: right;\n",
       "    }\n",
       "</style>\n",
       "<table border=\"1\" class=\"dataframe\">\n",
       "  <thead>\n",
       "    <tr style=\"text-align: right;\">\n",
       "      <th></th>\n",
       "      <th>species_presence</th>\n",
       "      <th>temperature</th>\n",
       "      <th>precipitation</th>\n",
       "      <th>geometry</th>\n",
       "    </tr>\n",
       "  </thead>\n",
       "  <tbody>\n",
       "    <tr>\n",
       "      <th>0</th>\n",
       "      <td>1</td>\n",
       "      <td>22</td>\n",
       "      <td>1200</td>\n",
       "      <td>POINT (-97.73000 30.27000)</td>\n",
       "    </tr>\n",
       "    <tr>\n",
       "      <th>1</th>\n",
       "      <td>0</td>\n",
       "      <td>15</td>\n",
       "      <td>800</td>\n",
       "      <td>POINT (-97.74000 30.29000)</td>\n",
       "    </tr>\n",
       "    <tr>\n",
       "      <th>2</th>\n",
       "      <td>1</td>\n",
       "      <td>30</td>\n",
       "      <td>1500</td>\n",
       "      <td>POINT (-97.72000 30.28000)</td>\n",
       "    </tr>\n",
       "    <tr>\n",
       "      <th>3</th>\n",
       "      <td>0</td>\n",
       "      <td>18</td>\n",
       "      <td>900</td>\n",
       "      <td>POINT (-97.75000 30.26000)</td>\n",
       "    </tr>\n",
       "    <tr>\n",
       "      <th>4</th>\n",
       "      <td>1</td>\n",
       "      <td>25</td>\n",
       "      <td>1300</td>\n",
       "      <td>POINT (-97.76000 30.30000)</td>\n",
       "    </tr>\n",
       "  </tbody>\n",
       "</table>\n",
       "</div>"
      ],
      "text/plain": [
       "   species_presence  temperature  precipitation                    geometry\n",
       "0                 1           22           1200  POINT (-97.73000 30.27000)\n",
       "1                 0           15            800  POINT (-97.74000 30.29000)\n",
       "2                 1           30           1500  POINT (-97.72000 30.28000)\n",
       "3                 0           18            900  POINT (-97.75000 30.26000)\n",
       "4                 1           25           1300  POINT (-97.76000 30.30000)"
      ]
     },
     "execution_count": 9,
     "metadata": {},
     "output_type": "execute_result"
    }
   ],
   "source": [
    "gdf"
   ]
  },
  {
   "cell_type": "code",
   "execution_count": null,
   "metadata": {},
   "outputs": [],
   "source": []
  }
 ],
 "metadata": {
  "kernelspec": {
   "display_name": "venv",
   "language": "python",
   "name": "python3"
  },
  "language_info": {
   "codemirror_mode": {
    "name": "ipython",
    "version": 3
   },
   "file_extension": ".py",
   "mimetype": "text/x-python",
   "name": "python",
   "nbconvert_exporter": "python",
   "pygments_lexer": "ipython3",
   "version": "3.12.4"
  }
 },
 "nbformat": 4,
 "nbformat_minor": 2
}
